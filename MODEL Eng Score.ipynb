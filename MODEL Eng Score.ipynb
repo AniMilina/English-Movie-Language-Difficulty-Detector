{
 "cells": [
  {
   "cell_type": "code",
   "execution_count": 48,
   "id": "03376f21",
   "metadata": {},
   "outputs": [],
   "source": [
    "import pandas as pd\n",
    "from sklearn.datasets import fetch_20newsgroups\n",
    "from sklearn.feature_extraction.text import TfidfVectorizer\n",
    "from sklearn.decomposition import TruncatedSVD\n",
    "from sklearn.model_selection import train_test_split\n",
    "from sklearn.metrics import accuracy_score\n",
    "from sklearn.linear_model import LogisticRegression\n",
    "from sklearn.naive_bayes import MultinomialNB\n",
    "from sklearn.svm import SVC\n",
    "from sklearn.ensemble import RandomForestClassifier\n",
    "from sklearn.naive_bayes import GaussianNB"
   ]
  },
  {
   "cell_type": "code",
   "execution_count": 49,
   "id": "42996749",
   "metadata": {},
   "outputs": [],
   "source": [
    "# Загрузка данных\n",
    "\n",
    "df_subtitles = pd.read_csv(\"C:\\\\Users\\\\Admin\\\\Desktop\\\\datasets\\\\EDA_movies_subtitles.csv\")\n",
    "df_word_level = pd.read_csv(\"C:\\\\Users\\\\Admin\\\\Desktop\\\\datasets\\\\EDA_word_level.csv\")"
   ]
  },
  {
   "cell_type": "code",
   "execution_count": 50,
   "id": "e59750a6",
   "metadata": {},
   "outputs": [
    {
     "name": "stdout",
     "output_type": "stream",
     "text": [
      "<class 'pandas.core.frame.DataFrame'>\n",
      "RangeIndex: 347 entries, 0 to 346\n",
      "Data columns (total 3 columns):\n",
      " #   Column     Non-Null Count  Dtype \n",
      "---  ------     --------------  ----- \n",
      " 0   Movie      347 non-null    object\n",
      " 1   Level      347 non-null    object\n",
      " 2   Subtitles  347 non-null    object\n",
      "dtypes: object(3)\n",
      "memory usage: 8.3+ KB\n"
     ]
    }
   ],
   "source": [
    "df_subtitles.info()"
   ]
  },
  {
   "cell_type": "code",
   "execution_count": 51,
   "id": "9679cd4c",
   "metadata": {},
   "outputs": [
    {
     "name": "stdout",
     "output_type": "stream",
     "text": [
      "<class 'pandas.core.frame.DataFrame'>\n",
      "RangeIndex: 4943 entries, 0 to 4942\n",
      "Data columns (total 2 columns):\n",
      " #   Column  Non-Null Count  Dtype \n",
      "---  ------  --------------  ----- \n",
      " 0   word    4943 non-null   object\n",
      " 1   level   4943 non-null   object\n",
      "dtypes: object(2)\n",
      "memory usage: 77.4+ KB\n"
     ]
    }
   ],
   "source": [
    "df_word_level.info()"
   ]
  },
  {
   "cell_type": "code",
   "execution_count": 52,
   "id": "e119342d",
   "metadata": {},
   "outputs": [],
   "source": [
    "# Приведение значения столбца \"Level\" к нижнему регистру\n",
    "\n",
    "df_subtitles[\"level\"] = df_subtitles[\"Level\"].str.lower()\n",
    "\n",
    "# Удаление столбца \"Level\"\n",
    "\n",
    "df_subtitles = df_subtitles.drop(\"Level\", axis=1)\n",
    "\n",
    "df_subtitles[\"level\"] = df_subtitles[\"level\"].str.lower()\n",
    "df_word_level[\"level\"] = df_word_level[\"level\"].str.lower()\n",
    "\n",
    "\n",
    "# Объединение данных по столбцу \"level\"\n",
    "\n",
    "df_merged = pd.merge(df_subtitles, df_word_level, on=\"level\", how=\"inner\")"
   ]
  },
  {
   "cell_type": "code",
   "execution_count": 53,
   "id": "e3bccf84",
   "metadata": {},
   "outputs": [
    {
     "data": {
      "text/html": [
       "<div>\n",
       "<style scoped>\n",
       "    .dataframe tbody tr th:only-of-type {\n",
       "        vertical-align: middle;\n",
       "    }\n",
       "\n",
       "    .dataframe tbody tr th {\n",
       "        vertical-align: top;\n",
       "    }\n",
       "\n",
       "    .dataframe thead th {\n",
       "        text-align: right;\n",
       "    }\n",
       "</style>\n",
       "<table border=\"1\" class=\"dataframe\">\n",
       "  <thead>\n",
       "    <tr style=\"text-align: right;\">\n",
       "      <th></th>\n",
       "      <th>Movie</th>\n",
       "      <th>Subtitles</th>\n",
       "      <th>level</th>\n",
       "      <th>word</th>\n",
       "    </tr>\n",
       "  </thead>\n",
       "  <tbody>\n",
       "    <tr>\n",
       "      <th>178790</th>\n",
       "      <td>The.Hollow.S01E01.720p.WEB.x264-EDHD</td>\n",
       "      <td>1 00:00:47,130 --&gt; 00:00:47,965 Huh? 2 00:01:1...</td>\n",
       "      <td>a2</td>\n",
       "      <td>manage</td>\n",
       "    </tr>\n",
       "  </tbody>\n",
       "</table>\n",
       "</div>"
      ],
      "text/plain": [
       "                                       Movie  \\\n",
       "178790  The.Hollow.S01E01.720p.WEB.x264-EDHD   \n",
       "\n",
       "                                                Subtitles level    word  \n",
       "178790  1 00:00:47,130 --> 00:00:47,965 Huh? 2 00:01:1...    a2  manage  "
      ]
     },
     "execution_count": 53,
     "metadata": {},
     "output_type": "execute_result"
    }
   ],
   "source": [
    "df_merged.sample()"
   ]
  },
  {
   "cell_type": "code",
   "execution_count": 54,
   "id": "56ae5aad",
   "metadata": {},
   "outputs": [
    {
     "data": {
      "text/plain": [
       "array(['b1', 'b2', 'a2', 'c1', 'a1'], dtype=object)"
      ]
     },
     "execution_count": 54,
     "metadata": {},
     "output_type": "execute_result"
    }
   ],
   "source": [
    "df_merged['level'].unique()"
   ]
  },
  {
   "cell_type": "code",
   "execution_count": 55,
   "id": "1a028515",
   "metadata": {},
   "outputs": [],
   "source": [
    "X = df_merged['word']\n",
    "y = df_merged['level']"
   ]
  },
  {
   "cell_type": "code",
   "execution_count": 56,
   "id": "b4b287eb",
   "metadata": {},
   "outputs": [],
   "source": [
    "# Векторизовать текст\n",
    "\n",
    "vectorizer = TfidfVectorizer()\n",
    "X = vectorizer.fit_transform(X)"
   ]
  },
  {
   "cell_type": "code",
   "execution_count": 57,
   "id": "448ad0c7",
   "metadata": {},
   "outputs": [],
   "source": [
    "# Разделение данных на обучение и тестирование\n",
    "\n",
    "X_train, X_test, y_train, y_test = train_test_split(X, y, test_size=0.2, random_state=42)"
   ]
  },
  {
   "cell_type": "code",
   "execution_count": 58,
   "id": "d6bd2066",
   "metadata": {},
   "outputs": [],
   "source": [
    "# svd = TruncatedSVD(n_components=50, random_state=42)\n",
    "# X_train_svd = svd.fit_transform(X_train)\n",
    "# X_test_svd = svd.transform(X_test)"
   ]
  },
  {
   "cell_type": "code",
   "execution_count": 59,
   "id": "294120a4",
   "metadata": {},
   "outputs": [
    {
     "name": "stdout",
     "output_type": "stream",
     "text": [
      "Model: Logistic Regression\n",
      "Accuracy (without dimensionality reduction): 0.9997832487401334\n",
      "Accuracy (with TruncatedSVD): 0.3316474902010368\n",
      "\n",
      "Model: SVM\n",
      "Accuracy (without dimensionality reduction): 0.9999096869750556\n",
      "Accuracy (with TruncatedSVD): 0.809060202662428\n",
      "\n",
      "Model: Random Forest\n",
      "Accuracy (without dimensionality reduction): 0.9999096869750556\n",
      "Accuracy (with TruncatedSVD): 0.9999096869750556\n",
      "\n"
     ]
    }
   ],
   "source": [
    "# Обучение и оценка модели\n",
    "\n",
    "models = {\n",
    "    'Logistic Regression': LogisticRegression(max_iter=1000),\n",
    "#    'Naive Bayes': GaussianNB(),\n",
    "    'SVM': SVC(),\n",
    "    'Random Forest': RandomForestClassifier()\n",
    "}\n",
    "\n",
    "for name, model in models.items():\n",
    "    print(f'Model: {name}')\n",
    "    model.fit(X_train, y_train)\n",
    "    y_pred = model.predict(X_test)\n",
    "    accuracy = accuracy_score(y_test, y_pred)\n",
    "    print(f'Accuracy (without dimensionality reduction): {accuracy}')\n",
    "\n",
    "    model.fit(X_train_svd, y_train)\n",
    "    y_pred = model.predict(X_test_svd)\n",
    "    accuracy = accuracy_score(y_test, y_pred)\n",
    "    print(f'Accuracy (with TruncatedSVD): {accuracy}')\n",
    "\n",
    "    print()"
   ]
  },
  {
   "cell_type": "code",
   "execution_count": 60,
   "id": "51d1650e",
   "metadata": {},
   "outputs": [
    {
     "name": "stdout",
     "output_type": "stream",
     "text": [
      "Model: Logistic Regression\n",
      "Accuracy: 0.9997832487401334\n",
      "\n",
      "Model: SVM\n",
      "Accuracy: 0.9999096869750556\n",
      "\n",
      "Model: Random Forest\n",
      "Accuracy: 0.9999096869750556\n",
      "\n"
     ]
    }
   ],
   "source": [
    "# Оценка модели\n",
    "\n",
    "for name, model in models.items():\n",
    "    print(f'Model: {name}')\n",
    "    model.fit(X_train, y_train)\n",
    "    y_pred = model.predict(X_test)\n",
    "    accuracy = accuracy_score(y_test, y_pred)\n",
    "    print(f'Accuracy: {accuracy}\\n')"
   ]
  },
  {
   "cell_type": "code",
   "execution_count": 65,
   "id": "06e5bc48",
   "metadata": {},
   "outputs": [],
   "source": [
    "import pickle\n",
    "\n",
    "best_model_name, best_model = max(models.items(), key=lambda x: accuracy_score(y_test, x[1].predict(X_test)))\n",
    "model_dump = open('C:/Users/Admin/Desktop/DS studies/Data/English_score/English_score_all_files/best_model.pkl', 'wb')\n",
    "pickle.dump(best_model, model_dump)\n",
    "model_dump.close()\n",
    "\n",
    "# best_model = max(models.items(), key=lambda x: accuracy_score(y_test, x[1].predict(X_test))) # находим название модели с наилучшей точностью\n",
    "# model_dump = open('C:/Users/Admin/Desktop/DS studies/Data/English_score/English_score_all_files/best_model.pkl', 'wb')\n",
    "# pickle.dump(best_model[1], model_dump)\n",
    "# model_dump.close()"
   ]
  },
  {
   "cell_type": "code",
   "execution_count": null,
   "id": "21397c99",
   "metadata": {},
   "outputs": [],
   "source": []
  }
 ],
 "metadata": {
  "kernelspec": {
   "display_name": "Python 3 (ipykernel)",
   "language": "python",
   "name": "python3"
  },
  "language_info": {
   "codemirror_mode": {
    "name": "ipython",
    "version": 3
   },
   "file_extension": ".py",
   "mimetype": "text/x-python",
   "name": "python",
   "nbconvert_exporter": "python",
   "pygments_lexer": "ipython3",
   "version": "3.9.13"
  }
 },
 "nbformat": 4,
 "nbformat_minor": 5
}
